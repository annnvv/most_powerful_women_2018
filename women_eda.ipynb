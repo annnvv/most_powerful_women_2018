{
 "cells": [
  {
   "cell_type": "markdown",
   "metadata": {},
   "source": [
    "# Fortune's Most Powerful Women 2018"
   ]
  },
  {
   "cell_type": "code",
   "execution_count": 1,
   "metadata": {},
   "outputs": [],
   "source": [
    "# load packages\n",
    "import pandas as pd\n",
    "import matplotlib.pyplot as plt"
   ]
  },
  {
   "cell_type": "code",
   "execution_count": 2,
   "metadata": {},
   "outputs": [
    {
     "data": {
      "text/html": [
       "<div>\n",
       "<style scoped>\n",
       "    .dataframe tbody tr th:only-of-type {\n",
       "        vertical-align: middle;\n",
       "    }\n",
       "\n",
       "    .dataframe tbody tr th {\n",
       "        vertical-align: top;\n",
       "    }\n",
       "\n",
       "    .dataframe thead th {\n",
       "        text-align: right;\n",
       "    }\n",
       "</style>\n",
       "<table border=\"1\" class=\"dataframe\">\n",
       "  <thead>\n",
       "    <tr style=\"text-align: right;\">\n",
       "      <th></th>\n",
       "      <th>rank</th>\n",
       "      <th>name</th>\n",
       "      <th>age</th>\n",
       "      <th>title</th>\n",
       "      <th>affiliation</th>\n",
       "      <th>revenue</th>\n",
       "      <th>profit</th>\n",
       "      <th>market_value</th>\n",
       "      <th>CEO</th>\n",
       "      <th>pres</th>\n",
       "      <th>chair</th>\n",
       "      <th>links</th>\n",
       "    </tr>\n",
       "  </thead>\n",
       "  <tbody>\n",
       "    <tr>\n",
       "      <th>0</th>\n",
       "      <td>1</td>\n",
       "      <td>Marillyn Hewson</td>\n",
       "      <td>64</td>\n",
       "      <td>Chairman President and CEO</td>\n",
       "      <td>Lockheed Martin</td>\n",
       "      <td>51048.0</td>\n",
       "      <td>2002.0</td>\n",
       "      <td>97199.9</td>\n",
       "      <td>1</td>\n",
       "      <td>1</td>\n",
       "      <td>1</td>\n",
       "      <td>http://fortune.com/most-powerful-women/marilly...</td>\n",
       "    </tr>\n",
       "    <tr>\n",
       "      <th>1</th>\n",
       "      <td>2</td>\n",
       "      <td>Mary Barra</td>\n",
       "      <td>56</td>\n",
       "      <td>Chairman and CEO</td>\n",
       "      <td>General Motors</td>\n",
       "      <td>157311.0</td>\n",
       "      <td>-3864.0</td>\n",
       "      <td>49522.2</td>\n",
       "      <td>1</td>\n",
       "      <td>0</td>\n",
       "      <td>1</td>\n",
       "      <td>http://fortune.com/most-powerful-women/mary-ba...</td>\n",
       "    </tr>\n",
       "    <tr>\n",
       "      <th>2</th>\n",
       "      <td>3</td>\n",
       "      <td>Abigail Johnson</td>\n",
       "      <td>56</td>\n",
       "      <td>Chairman and CEO</td>\n",
       "      <td>Fidelity Investments</td>\n",
       "      <td>NaN</td>\n",
       "      <td>NaN</td>\n",
       "      <td>NaN</td>\n",
       "      <td>1</td>\n",
       "      <td>0</td>\n",
       "      <td>1</td>\n",
       "      <td>http://fortune.com/most-powerful-women/abigail...</td>\n",
       "    </tr>\n",
       "    <tr>\n",
       "      <th>3</th>\n",
       "      <td>4</td>\n",
       "      <td>Ginni Rometty</td>\n",
       "      <td>61</td>\n",
       "      <td>Chairman President and CEO</td>\n",
       "      <td>IBM</td>\n",
       "      <td>79139.0</td>\n",
       "      <td>5753.0</td>\n",
       "      <td>135600.8</td>\n",
       "      <td>1</td>\n",
       "      <td>1</td>\n",
       "      <td>1</td>\n",
       "      <td>http://fortune.com/most-powerful-women/ginni-r...</td>\n",
       "    </tr>\n",
       "    <tr>\n",
       "      <th>4</th>\n",
       "      <td>5</td>\n",
       "      <td>Gail Boudreaux</td>\n",
       "      <td>58</td>\n",
       "      <td>President and CEO</td>\n",
       "      <td>Anthem</td>\n",
       "      <td>90039.4</td>\n",
       "      <td>3842.8</td>\n",
       "      <td>70439.6</td>\n",
       "      <td>1</td>\n",
       "      <td>1</td>\n",
       "      <td>0</td>\n",
       "      <td>http://fortune.com/most-powerful-women/gail-bo...</td>\n",
       "    </tr>\n",
       "    <tr>\n",
       "      <th>5</th>\n",
       "      <td>6</td>\n",
       "      <td>Sheryl Sandberg</td>\n",
       "      <td>49</td>\n",
       "      <td>COO</td>\n",
       "      <td>Facebook</td>\n",
       "      <td>40653.0</td>\n",
       "      <td>15934.0</td>\n",
       "      <td>462821.2</td>\n",
       "      <td>0</td>\n",
       "      <td>0</td>\n",
       "      <td>0</td>\n",
       "      <td>http://fortune.com/most-powerful-women/sheryl-...</td>\n",
       "    </tr>\n",
       "    <tr>\n",
       "      <th>6</th>\n",
       "      <td>7</td>\n",
       "      <td>Safra Catz</td>\n",
       "      <td>56</td>\n",
       "      <td>Co-CEO</td>\n",
       "      <td>Oracle</td>\n",
       "      <td>39831.0</td>\n",
       "      <td>3825.0</td>\n",
       "      <td>195196.0</td>\n",
       "      <td>1</td>\n",
       "      <td>0</td>\n",
       "      <td>0</td>\n",
       "      <td>http://fortune.com/most-powerful-women/safra-c...</td>\n",
       "    </tr>\n",
       "    <tr>\n",
       "      <th>7</th>\n",
       "      <td>8</td>\n",
       "      <td>Phebe Novakovic</td>\n",
       "      <td>60</td>\n",
       "      <td>Chairman and CEO</td>\n",
       "      <td>General Dynamics</td>\n",
       "      <td>30973.0</td>\n",
       "      <td>2912.0</td>\n",
       "      <td>60622.1</td>\n",
       "      <td>1</td>\n",
       "      <td>0</td>\n",
       "      <td>1</td>\n",
       "      <td>http://fortune.com/most-powerful-women/phebe-n...</td>\n",
       "    </tr>\n",
       "    <tr>\n",
       "      <th>8</th>\n",
       "      <td>9</td>\n",
       "      <td>Ruth Porat</td>\n",
       "      <td>60</td>\n",
       "      <td>SVP and CFO</td>\n",
       "      <td>Google Alphabet</td>\n",
       "      <td>110855.0</td>\n",
       "      <td>12662.0</td>\n",
       "      <td>809871.7</td>\n",
       "      <td>0</td>\n",
       "      <td>0</td>\n",
       "      <td>0</td>\n",
       "      <td>http://fortune.com/most-powerful-women/ruth-po...</td>\n",
       "    </tr>\n",
       "    <tr>\n",
       "      <th>9</th>\n",
       "      <td>10</td>\n",
       "      <td>Susan Wojcicki</td>\n",
       "      <td>50</td>\n",
       "      <td>CEO</td>\n",
       "      <td>YouTube Google Alphabet</td>\n",
       "      <td>110855.0</td>\n",
       "      <td>12662.0</td>\n",
       "      <td>809871.7</td>\n",
       "      <td>1</td>\n",
       "      <td>0</td>\n",
       "      <td>0</td>\n",
       "      <td>http://fortune.com/most-powerful-women/susan-w...</td>\n",
       "    </tr>\n",
       "  </tbody>\n",
       "</table>\n",
       "</div>"
      ],
      "text/plain": [
       "   rank              name  age                       title  \\\n",
       "0     1  Marillyn Hewson    64  Chairman President and CEO   \n",
       "1     2       Mary Barra    56            Chairman and CEO   \n",
       "2     3  Abigail Johnson    56            Chairman and CEO   \n",
       "3     4    Ginni Rometty    61  Chairman President and CEO   \n",
       "4     5   Gail Boudreaux    58           President and CEO   \n",
       "5     6  Sheryl Sandberg    49                         COO   \n",
       "6     7       Safra Catz    56                      Co-CEO   \n",
       "7     8  Phebe Novakovic    60            Chairman and CEO   \n",
       "8     9       Ruth Porat    60                 SVP and CFO   \n",
       "9    10   Susan Wojcicki    50                         CEO   \n",
       "\n",
       "               affiliation   revenue   profit  market_value  CEO  pres  chair  \\\n",
       "0          Lockheed Martin   51048.0   2002.0       97199.9    1     1      1   \n",
       "1           General Motors  157311.0  -3864.0       49522.2    1     0      1   \n",
       "2     Fidelity Investments       NaN      NaN           NaN    1     0      1   \n",
       "3                      IBM   79139.0   5753.0      135600.8    1     1      1   \n",
       "4                   Anthem   90039.4   3842.8       70439.6    1     1      0   \n",
       "5                 Facebook   40653.0  15934.0      462821.2    0     0      0   \n",
       "6                   Oracle   39831.0   3825.0      195196.0    1     0      0   \n",
       "7         General Dynamics   30973.0   2912.0       60622.1    1     0      1   \n",
       "8          Google Alphabet  110855.0  12662.0      809871.7    0     0      0   \n",
       "9  YouTube Google Alphabet  110855.0  12662.0      809871.7    1     0      0   \n",
       "\n",
       "                                               links  \n",
       "0  http://fortune.com/most-powerful-women/marilly...  \n",
       "1  http://fortune.com/most-powerful-women/mary-ba...  \n",
       "2  http://fortune.com/most-powerful-women/abigail...  \n",
       "3  http://fortune.com/most-powerful-women/ginni-r...  \n",
       "4  http://fortune.com/most-powerful-women/gail-bo...  \n",
       "5  http://fortune.com/most-powerful-women/sheryl-...  \n",
       "6  http://fortune.com/most-powerful-women/safra-c...  \n",
       "7  http://fortune.com/most-powerful-women/phebe-n...  \n",
       "8  http://fortune.com/most-powerful-women/ruth-po...  \n",
       "9  http://fortune.com/most-powerful-women/susan-w...  "
      ]
     },
     "execution_count": 2,
     "metadata": {},
     "output_type": "execute_result"
    }
   ],
   "source": [
    "# load data\n",
    "url = \"https://raw.githubusercontent.com/annnvv/most_powerful_women_2018/master/data/fortune_most_powerful_women_2018.csv\"\n",
    "df = pd.read_csv(url, encoding = \"ISO-8859-1\")\n",
    "df.head(10)"
   ]
  },
  {
   "cell_type": "code",
   "execution_count": 3,
   "metadata": {},
   "outputs": [
    {
     "data": {
      "text/plain": [
       "rank            0\n",
       "name            0\n",
       "age             0\n",
       "title           0\n",
       "affiliation     0\n",
       "revenue         7\n",
       "profit          7\n",
       "market_value    9\n",
       "CEO             0\n",
       "pres            0\n",
       "chair           0\n",
       "links           0\n",
       "dtype: int64"
      ]
     },
     "execution_count": 3,
     "metadata": {},
     "output_type": "execute_result"
    }
   ],
   "source": [
    "#check for missing values\n",
    "df.isnull().sum()"
   ]
  },
  {
   "cell_type": "code",
   "execution_count": 4,
   "metadata": {},
   "outputs": [
    {
     "data": {
      "text/plain": [
       "rank              int64\n",
       "name             object\n",
       "age               int64\n",
       "title            object\n",
       "affiliation      object\n",
       "revenue         float64\n",
       "profit          float64\n",
       "market_value    float64\n",
       "CEO               int64\n",
       "pres              int64\n",
       "chair             int64\n",
       "links            object\n",
       "dtype: object"
      ]
     },
     "execution_count": 4,
     "metadata": {},
     "output_type": "execute_result"
    }
   ],
   "source": [
    "# check data types, interested in numeric variables\n",
    "df.dtypes"
   ]
  },
  {
   "cell_type": "code",
   "execution_count": 5,
   "metadata": {},
   "outputs": [
    {
     "data": {
      "text/html": [
       "<div>\n",
       "<style scoped>\n",
       "    .dataframe tbody tr th:only-of-type {\n",
       "        vertical-align: middle;\n",
       "    }\n",
       "\n",
       "    .dataframe tbody tr th {\n",
       "        vertical-align: top;\n",
       "    }\n",
       "\n",
       "    .dataframe thead th {\n",
       "        text-align: right;\n",
       "    }\n",
       "</style>\n",
       "<table border=\"1\" class=\"dataframe\">\n",
       "  <thead>\n",
       "    <tr style=\"text-align: right;\">\n",
       "      <th></th>\n",
       "      <th>age</th>\n",
       "      <th>revenue</th>\n",
       "      <th>profit</th>\n",
       "      <th>market_value</th>\n",
       "      <th>CEO</th>\n",
       "      <th>pres</th>\n",
       "      <th>chair</th>\n",
       "    </tr>\n",
       "  </thead>\n",
       "  <tbody>\n",
       "    <tr>\n",
       "      <th>0</th>\n",
       "      <td>64</td>\n",
       "      <td>51048.0</td>\n",
       "      <td>2002.0</td>\n",
       "      <td>97199.9</td>\n",
       "      <td>1</td>\n",
       "      <td>1</td>\n",
       "      <td>1</td>\n",
       "    </tr>\n",
       "    <tr>\n",
       "      <th>1</th>\n",
       "      <td>56</td>\n",
       "      <td>157311.0</td>\n",
       "      <td>-3864.0</td>\n",
       "      <td>49522.2</td>\n",
       "      <td>1</td>\n",
       "      <td>0</td>\n",
       "      <td>1</td>\n",
       "    </tr>\n",
       "    <tr>\n",
       "      <th>2</th>\n",
       "      <td>56</td>\n",
       "      <td>NaN</td>\n",
       "      <td>NaN</td>\n",
       "      <td>NaN</td>\n",
       "      <td>1</td>\n",
       "      <td>0</td>\n",
       "      <td>1</td>\n",
       "    </tr>\n",
       "    <tr>\n",
       "      <th>3</th>\n",
       "      <td>61</td>\n",
       "      <td>79139.0</td>\n",
       "      <td>5753.0</td>\n",
       "      <td>135600.8</td>\n",
       "      <td>1</td>\n",
       "      <td>1</td>\n",
       "      <td>1</td>\n",
       "    </tr>\n",
       "    <tr>\n",
       "      <th>4</th>\n",
       "      <td>58</td>\n",
       "      <td>90039.4</td>\n",
       "      <td>3842.8</td>\n",
       "      <td>70439.6</td>\n",
       "      <td>1</td>\n",
       "      <td>1</td>\n",
       "      <td>0</td>\n",
       "    </tr>\n",
       "  </tbody>\n",
       "</table>\n",
       "</div>"
      ],
      "text/plain": [
       "   age   revenue  profit  market_value  CEO  pres  chair\n",
       "0   64   51048.0  2002.0       97199.9    1     1      1\n",
       "1   56  157311.0 -3864.0       49522.2    1     0      1\n",
       "2   56       NaN     NaN           NaN    1     0      1\n",
       "3   61   79139.0  5753.0      135600.8    1     1      1\n",
       "4   58   90039.4  3842.8       70439.6    1     1      0"
      ]
     },
     "execution_count": 5,
     "metadata": {},
     "output_type": "execute_result"
    }
   ],
   "source": [
    "# subset numeric variables\n",
    "subset = df[[\"age\", \"revenue\", \"profit\", \"market_value\", \"CEO\", \"pres\", \"chair\"]]\n",
    "subset.head(5)"
   ]
  },
  {
   "cell_type": "code",
   "execution_count": 6,
   "metadata": {},
   "outputs": [
    {
     "data": {
      "text/plain": [
       "age                 55.431373\n",
       "revenue          69474.143182\n",
       "profit            7329.061364\n",
       "market_value    207057.804762\n",
       "CEO                  0.627451\n",
       "pres                 0.450980\n",
       "chair                0.235294\n",
       "dtype: float64"
      ]
     },
     "execution_count": 6,
     "metadata": {},
     "output_type": "execute_result"
    }
   ],
   "source": [
    "# mean of variables in subset\n",
    "subset.mean()"
   ]
  },
  {
   "cell_type": "code",
   "execution_count": 7,
   "metadata": {},
   "outputs": [
    {
     "data": {
      "text/plain": [
       "age                  4.928509\n",
       "revenue          82170.963254\n",
       "profit            9660.114730\n",
       "market_value    254918.287493\n",
       "CEO                  0.488294\n",
       "pres                 0.502543\n",
       "chair                0.428403\n",
       "dtype: float64"
      ]
     },
     "execution_count": 7,
     "metadata": {},
     "output_type": "execute_result"
    }
   ],
   "source": [
    "# standard deviation of variables in subset\n",
    "subset.std()"
   ]
  },
  {
   "cell_type": "code",
   "execution_count": 8,
   "metadata": {},
   "outputs": [
    {
     "data": {
      "text/plain": [
       "<Figure size 432x288 with 0 Axes>"
      ]
     },
     "metadata": {},
     "output_type": "display_data"
    },
    {
     "data": {
      "image/png": "[encoded data removed]",
      "text/plain": [
       "<Figure size 432x288 with 1 Axes>"
      ]
     },
     "metadata": {},
     "output_type": "display_data"
    }
   ],
   "source": [
    "# plot market value by rank\n",
    "\n",
    "# step 1: create plot\n",
    "fig = plt.figure()\n",
    "\n",
    "# step 2: plot\n",
    "df.plot(kind = \"scatter\", x = \"rank\", y = \"market_value\", color = \"blue\")\n",
    "\n",
    "# step 3: customize plot\n",
    "plt.title(\"Market Value by Rank\")\n",
    "plt.xlabel(\"Rank\")\n",
    "plt.ylabel(\"Market Value\")\n",
    "\n",
    "# step 4: save plot\n",
    "# plt.savefig(\"market_value_by_rank.png\")\n",
    "\n",
    "# step 5: show plot\n",
    "plt.show()"
   ]
  }
 ],
 "metadata": {
  "kernelspec": {
   "display_name": "Python 3",
   "language": "python",
   "name": "python3"
  },
  "language_info": {
   "codemirror_mode": {
    "name": "ipython",
    "version": 3
   },
   "file_extension": ".py",
   "mimetype": "text/x-python",
   "name": "python",
   "nbconvert_exporter": "python",
   "pygments_lexer": "ipython3",
   "version": "3.6.5"
  }
 },
 "nbformat": 4,
 "nbformat_minor": 2
}
